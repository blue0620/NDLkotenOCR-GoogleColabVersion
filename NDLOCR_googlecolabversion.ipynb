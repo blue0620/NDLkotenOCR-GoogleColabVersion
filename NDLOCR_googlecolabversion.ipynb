{
  "nbformat": 4,
  "nbformat_minor": 0,
  "metadata": {
    "colab": {
      "name": "NDLOCR-googlecolabversion.ipynb",
      "provenance": [],
      "include_colab_link": true
    },
    "kernelspec": {
      "name": "python3",
      "display_name": "Python 3"
    },
    "language_info": {
      "name": "python"
    },
    "accelerator": "GPU"
  },
  "cells": [
    {
      "cell_type": "markdown",
      "metadata": {
        "id": "view-in-github",
        "colab_type": "text"
      },
      "source": [
        "<a href=\"https://colab.research.google.com/github/blue0620/NDLkotenOCR-GoogleColabVersion/blob/main/NDLOCR_googlecolabversion.ipynb\" target=\"_parent\"><img src=\"https://colab.research.google.com/assets/colab-badge.svg\" alt=\"Open In Colab\"/></a>"
      ]
    },
    {
      "cell_type": "markdown",
      "source": [
        "# 0. GPUの情報を確認する"
      ],
      "metadata": {
        "id": "X3I17DDT9ggb"
      }
    },
    {
      "cell_type": "code",
      "source": [
        "!nvidia-smi"
      ],
      "metadata": {
        "id": "GgcHqHsqsUxq"
      },
      "execution_count": null,
      "outputs": []
    },
    {
      "cell_type": "markdown",
      "source": [
        "# 1. NDLOCRのリポジトリをcloneする(--recursiveを忘れずに！)"
      ],
      "metadata": {
        "id": "3QnKKcg49ou8"
      }
    },
    {
      "cell_type": "code",
      "execution_count": null,
      "metadata": {
        "id": "lsVnpiwzrwRW"
      },
      "outputs": [],
      "source": [
        "!git clone --recursive https://github.com/ndl-lab/ndlocr_cli"
      ]
    },
    {
      "cell_type": "markdown",
      "source": [
        "# 2. 必要なパッケージをインストールする"
      ],
      "metadata": {
        "id": "q-KWf4kR92Q-"
      }
    },
    {
      "cell_type": "code",
      "source": [
        "PROJECT_DIR=\"/content/ndlocr_cli\""
      ],
      "metadata": {
        "id": "13QSs6CDuChD"
      },
      "execution_count": null,
      "outputs": []
    },
    {
      "cell_type": "code",
      "source": [
        "!pip install -r {PROJECT_DIR}/requirements.txt\n",
        "!pip install torch==1.8.1+cu111 torchvision==0.9.1+cu111 -f https://download.pytorch.org/whl/lts/1.8/torch_lts.html\n",
        "!pip install mmcv-full==1.4.0 -f https://download.openmmlab.com/mmcv/dist/cu111/torch1.8.0/index.html\n",
        "##numpyのバージョン問題でcolabでは動かなかったのでアップデートする(参考:https://stackoverflow.com/questions/66060487/valueerror-numpy-ndarray-size-changed-may-indicate-binary-incompatibility-exp)\n",
        "#!pip install --upgrade numpy"
      ],
      "metadata": {
        "id": "jZFRwd28xu0g"
      },
      "execution_count": null,
      "outputs": []
    },
    {
      "cell_type": "code",
      "source": [
        "%cd {PROJECT_DIR}/src/ndl_layout/mmdetection\n",
        "!python setup.py bdist_wheel\n",
        "!pip install dist/*.whl\n",
        "%cd /content"
      ],
      "metadata": {
        "id": "30KFK8rwtfks"
      },
      "execution_count": null,
      "outputs": []
    },
    {
      "cell_type": "markdown",
      "source": [
        "# 4. OCRに必要な学習済みモデルをダウンロードする"
      ],
      "metadata": {
        "id": "K_x1d12Z9Xx6"
      }
    },
    {
      "cell_type": "code",
      "source": [
        "%cd {PROJECT_DIR}\n",
        "!wget https://lab.ndl.go.jp/dataset/ndlocr/text_recognition/mojilist_NDL.txt -P ./src/text_recognition/models\n",
        "!wget https://lab.ndl.go.jp/dataset/ndlocr/text_recognition/ndlenfixed64-mj0-synth1.pth -P ./src/text_recognition/models\n",
        "!wget https://lab.ndl.go.jp/dataset/ndlocr/ndl_layout/ndl_layout_config.py -P ./src/ndl_layout/models\n",
        "!wget https://lab.ndl.go.jp/dataset/ndlocr/ndl_layout/epoch_140_all_eql_bt.pth -P ./src/ndl_layout/models\n",
        "!wget https://lab.ndl.go.jp/dataset/ndlocr/separate_pages_ssd/weights.hdf5 -P ./src/separate_pages_ssd/ssd_tools\n",
        "%cd /content/"
      ],
      "metadata": {
        "id": "MBjoBuLqssdC"
      },
      "execution_count": null,
      "outputs": []
    },
    {
      "cell_type": "markdown",
      "source": [
        "# 5. 環境変数を追加する"
      ],
      "metadata": {
        "id": "jc3YwE3E-LyX"
      }
    },
    {
      "cell_type": "code",
      "source": [
        "import os\n",
        "os.environ[\"PYTHONPATH\"]=os.environ[\"PYTHONPATH\"]+\":\"+f\"{PROJECT_DIR}/src/text_recognition/deep-text-recognition-benchmark\""
      ],
      "metadata": {
        "id": "8fbu-1_uvA6z"
      },
      "execution_count": null,
      "outputs": []
    },
    {
      "cell_type": "markdown",
      "source": [
        "# 6. PDFを画像に変換するためのパッケージのインストール"
      ],
      "metadata": {
        "id": "HgbqhxwY-SYe"
      }
    },
    {
      "cell_type": "code",
      "source": [
        "!apt-get install poppler-utils\n",
        "!pip install pdf2image "
      ],
      "metadata": {
        "id": "1l4WBtUe4eiH"
      },
      "execution_count": null,
      "outputs": []
    },
    {
      "cell_type": "markdown",
      "source": [
        "# 7. テキスト化したいPDFをダウンロードする\n",
        "今回は、ROIS-DS人文学オープンデータ共同利用センター(http://codh.rois.ac.jp/\n",
        ")が提供している\n",
        "\n",
        "近代雑誌データセット　http://codh.rois.ac.jp/modern-magazine/\n",
        "から、\n",
        "\n",
        "東洋学芸雑誌(https://dglb01.ninjal.ac.jp/ninjaldl/bunken.php?title=toyogakuge)\n",
        "\n",
        "第一号(https://dglb01.ninjal.ac.jp/ninjaldl/toyogakuge/001/PDF/tygz-001.pdf)\n",
        "\n",
        "をダウンロードしてみます。"
      ],
      "metadata": {
        "id": "6-dbA4vy-bLa"
      }
    },
    {
      "cell_type": "code",
      "source": [
        "!curl https://dglb01.ninjal.ac.jp/ninjaldl/toyogakuge/001/PDF/tygz-001.pdf -o /content/tygz-001.pdf"
      ],
      "metadata": {
        "id": "OOKZNp86yRPs"
      },
      "execution_count": null,
      "outputs": []
    },
    {
      "cell_type": "markdown",
      "source": [
        "# 8. PDFをjpeg画像に変換する"
      ],
      "metadata": {
        "id": "iuFAo2rs_exA"
      }
    },
    {
      "cell_type": "code",
      "source": [
        "from pathlib import Path\n",
        "from pdf2image import convert_from_path\n",
        "import os\n",
        "pdf_path = Path(\"/content/tygz-001.pdf\")\n",
        "os.makedirs(\"/content/tygz-001/img\",exist_ok=True)\n",
        "img_path=Path(\"/content/tygz-001/img\")\n",
        "\n",
        "convert_from_path(pdf_path, output_folder=img_path,fmt='jpeg',output_file=pdf_path.stem,dpi=100)"
      ],
      "metadata": {
        "id": "BF4OhT9e406v"
      },
      "execution_count": null,
      "outputs": []
    },
    {
      "cell_type": "markdown",
      "source": [
        "# 9. OCRの実行\n",
        "\n",
        "/content/tygz-001以下のimgディレクトリ内の画像を処理し、\n",
        "/content/tygz-001_outputに出力する場合"
      ],
      "metadata": {
        "id": "7royZQNVMPPb"
      }
    },
    {
      "cell_type": "code",
      "source": [
        "%cd {PROJECT_DIR}\n",
        "!python main.py infer /content/tygz-001 /content/tygz-001_output -s s -x"
      ],
      "metadata": {
        "id": "TXpxjZm3wr62"
      },
      "execution_count": null,
      "outputs": []
    },
    {
      "cell_type": "markdown",
      "source": [
        "# 10. 結果の確認"
      ],
      "metadata": {
        "id": "oFWpRkPkMmIc"
      }
    },
    {
      "cell_type": "code",
      "source": [
        "import glob\n",
        "import os\n",
        "for fpath in sorted(glob.glob(\"/content/tygz-001_output/tygz-001/txt/*_main.txt\")):\n",
        "    with open(fpath) as f:\n",
        "        txtdata=f.read()\n",
        "        print(os.path.basename(fpath).replace(\"_main.txt\",\"\"))\n",
        "        print(txtdata)"
      ],
      "metadata": {
        "id": "-kqQK2uqMHDJ"
      },
      "execution_count": null,
      "outputs": []
    }
  ]
}